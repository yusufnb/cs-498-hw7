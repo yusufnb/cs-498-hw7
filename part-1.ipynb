{
 "cells": [
  {
   "cell_type": "code",
   "execution_count": 96,
   "metadata": {
    "collapsed": true
   },
   "outputs": [],
   "source": [
    "from scipy.special import logsumexp\n",
    "from sklearn.cluster import KMeans\n",
    "from scipy.special import logsumexp\n",
    "import sys\n",
    "\n",
    "class EM:\n",
    "    p = None\n",
    "    dim = None # dimension of the data space\n",
    "    n_points = None # Number of data points\n",
    "    n_clusters = None # Number of clusters\n",
    "    pi = None # The prior probability vector of pi_j values\n",
    "    nnz = None\n",
    "    p_spread = .99 # the probability weight\n",
    "    X = None # the data\n",
    "    q_all = [sys.maxsize]\n",
    "    \n",
    "    def __init__(self, n_clusters):\n",
    "        self.n_clusters = n_clusters\n",
    "        return\n",
    "    \n",
    "    # private method\n",
    "    # initialize p and pi using KMeans\n",
    "    def initialize(self):\n",
    "        \n",
    "        self.p = 1.0/self.dim * np.ones((self.n_clusters, self.dim))\n",
    "        self.pi = 1.0/self.n_clusters * np.ones(self.n_clusters)\n",
    "        \n",
    "        km = KMeans(n_clusters=self.n_clusters)\n",
    "        km.fit(self.X)\n",
    "        clusters = km.labels_\n",
    "        \n",
    "        for j in range(self.n_clusters):\n",
    "            cluster_points = self.X[clusters == j, :]\n",
    "            self.pi[j] = cluster_points.shape[0] / self.n_points\n",
    "            \n",
    "            dist = np.sum(cluster_points, 0)\n",
    "            p_j = dist * self.p_spread / np.sum(dist)\n",
    "            zero_count = (p_j == 0).sum()\n",
    "            p_j[p_j == 0] = (1 - self.p_spread)/zero_count\n",
    "            \n",
    "            self.p[j] = p_j\n",
    "                            \n",
    "        return\n",
    "    \n",
    "    def fit(self, X):\n",
    "        self.n_points = X.shape[0]\n",
    "        self.dim = X.shape[1]\n",
    "        self.X = X\n",
    "        self.initialize();\n",
    "        \n",
    "        i = 1\n",
    "        while i < 10:\n",
    "            w = self.e_step()\n",
    "            self.m_step(w)\n",
    "            if (abs(self.q_all[-1] - self.q_all[-2]) < 0.0001):\n",
    "                break\n",
    "            i = i + 1\n",
    "            \n",
    "        return\n",
    "    \n",
    "    def e_step(self):\n",
    "        log_lik = self.X.dot(np.log(self.p).T) + np.log(self.pi)\n",
    "        \n",
    "        w = np.exp((log_lik.T - logsumexp(log_lik)).T)\n",
    "        q = np.sum(log_lik*w)\n",
    "        self.q_all.append(q)\n",
    "        return w\n",
    "    \n",
    "    def m_step(self, w):\n",
    "        for j in range(self.n_clusters):\n",
    "            numerator = np.sum(np.multiply(self.X.T, w[:,j]).T, 0)\n",
    "            denominator = np.sum(np.sum(self.X, 1) * w[:,j])\n",
    "            self.p[j,] = (numerator + 0.0001)/(denominator + (0.0001 * self.dim))\n",
    "\n",
    "        self.pi = np.sum(w, 0)/ self.n_points        \n",
    "        return\n",
    "        "
   ]
  },
  {
   "cell_type": "code",
   "execution_count": 97,
   "metadata": {},
   "outputs": [],
   "source": [
    "# Load the data\n",
    "nips_data = np.loadtxt('docword.nips.txt', skiprows=3, dtype=int)\n",
    "X = np.zeros(shape=(1500, 12419))\n",
    "\n",
    "# Prepare X\n",
    "for row in nips_data:\n",
    "    X[row[0]-1][row[1] -1] = row[2]\n",
    "\n",
    "em = EM(n_clusters=30)\n",
    "em.fit(X)"
   ]
  },
  {
   "cell_type": "code",
   "execution_count": 98,
   "metadata": {},
   "outputs": [
    {
     "data": {
      "text/plain": [
       "[9223372036854775807,\n",
       " -17.110548200208726,\n",
       " -14.159131935227233,\n",
       " -12.375752310396914,\n",
       " -11.915633451910793,\n",
       " -11.400434839103657,\n",
       " -10.909927900455559,\n",
       " -10.331614799197895,\n",
       " -9.8133063108147756,\n",
       " -9.7026645875194628]"
      ]
     },
     "execution_count": 98,
     "metadata": {},
     "output_type": "execute_result"
    }
   ],
   "source": [
    "em.q_all"
   ]
  },
  {
   "cell_type": "code",
   "execution_count": 99,
   "metadata": {},
   "outputs": [
    {
     "data": {
      "text/plain": [
       "[<matplotlib.lines.Line2D at 0x1a48d78c88>]"
      ]
     },
     "execution_count": 99,
     "metadata": {},
     "output_type": "execute_result"
    },
    {
     "data": {
      "image/png": "[encoded data removed]",
      "text/plain": [
       "<matplotlib.figure.Figure at 0x1a491b2c18>"
      ]
     },
     "metadata": {},
     "output_type": "display_data"
    }
   ],
   "source": [
    "import matplotlib.pyplot as plt\n",
    "%matplotlib inline\n",
    "plt.plot(em.q_all[1:])"
   ]
  },
  {
   "cell_type": "code",
   "execution_count": 100,
   "metadata": {},
   "outputs": [
    {
     "data": {
      "text/plain": [
       "[<matplotlib.lines.Line2D at 0x1a48d668d0>]"
      ]
     },
     "execution_count": 100,
     "metadata": {},
     "output_type": "execute_result"
    },
    {
     "data": {
      "image/png": "[encoded data removed]",
      "text/plain": [
       "<matplotlib.figure.Figure at 0x1a470c5d30>"
      ]
     },
     "metadata": {},
     "output_type": "display_data"
    }
   ],
   "source": [
    "plt.plot([i for i in range(1,31)], em.pi)"
   ]
  },
  {
   "cell_type": "code",
   "execution_count": 102,
   "metadata": {},
   "outputs": [
    {
     "data": {
      "text/plain": [
       "0.00066666666666666643"
      ]
     },
     "execution_count": 102,
     "metadata": {},
     "output_type": "execute_result"
    }
   ],
   "source": [
    "em.pi.sum()"
   ]
  },
  {
   "cell_type": "code",
   "execution_count": null,
   "metadata": {
    "collapsed": true
   },
   "outputs": [],
   "source": []
  },
  {
   "cell_type": "code",
   "execution_count": null,
   "metadata": {
    "collapsed": true
   },
   "outputs": [],
   "source": []
  }
 ],
 "metadata": {
  "kernelspec": {
   "display_name": "Python 3",
   "language": "python",
   "name": "python3"
  }
 },
 "nbformat": 4,
 "nbformat_minor": 2
}
