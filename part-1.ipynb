{
 "cells": [
  {
   "cell_type": "code",
   "execution_count": 220,
   "metadata": {
    "collapsed": true
   },
   "outputs": [],
   "source": [
    "import numpy as np\n",
    "import matplotlib.pyplot as plt\n",
    "\n",
    "class EM:\n",
    "    p = None\n",
    "    dim = None # dimension of the data space\n",
    "    n_points = None # Number of data points\n",
    "    n_clusters = None # Number of clusters\n",
    "    py = None # The prior probability vector of py_j values\n",
    "    X = None # the data\n",
    "    \n",
    "    def __init__(self, n_clusters):\n",
    "        self.n_clusters = n_clusters\n",
    "        return\n",
    "    \n",
    "    def initialize(self):\n",
    "        # init p, based on random X but keep all values non zero     \n",
    "        self.p = np.zeros(shape = (self.dim, self.n_clusters))\n",
    "        samples = np.random.randint(0, self.n_points-1, self.n_clusters)\n",
    "        for i, index in enumerate(samples):\n",
    "            self.p[:, i] = (self.X[index, :] + 1)/(np.sum(self.X[index, :]) + self.dim)        \n",
    "        \n",
    "        # the prior\n",
    "        self.py = np.ones(shape = self.n_clusters)/self.n_clusters\n",
    "        return\n",
    "    \n",
    "    def fit(self, X):\n",
    "        self.n_points = X.shape[0]\n",
    "        self.dim = X.shape[1]\n",
    "        self.X = X\n",
    "        self.initialize();\n",
    "        i = 1\n",
    "        w_old = None\n",
    "        while i < 100:\n",
    "            w = self.e_step()\n",
    "            self.m_step(w)\n",
    "            \n",
    "            # check for converge\n",
    "            if (w_old is not None):\n",
    "                dist = np.linalg.norm(w - w_old)\n",
    "                if dist < 0.00001:\n",
    "                    break\n",
    "            w_old = np.copy(w)\n",
    "            \n",
    "            i = i + 1\n",
    "            \n",
    "        print(\"Converged in {} iterations\\n\".format(i))\n",
    "        return\n",
    "    \n",
    "    def e_step(self):\n",
    "        W = np.dot(self.X, np.log(self.p)) + np.log(self.py)\n",
    "        maxs = W.max(axis=1)\n",
    "        W = (W.T - maxs).T\n",
    "        W = (W.T - np.log(np.sum(np.exp(W), axis = 1))).T\n",
    "        W = np.exp(W)\n",
    "        return W\n",
    "    \n",
    "    def m_step(self, W):\n",
    "        self.py = np.sum(W, axis = 0)/self.n_points\n",
    "        self.p = np.dot(self.X.T, W) + 1.0/self.dim\n",
    "        \n",
    "        colsum = np.sum(self.p, axis = 0)\n",
    "        self.p = self.p/colsum\n",
    "        return\n",
    "        "
   ]
  },
  {
   "cell_type": "code",
   "execution_count": 222,
   "metadata": {},
   "outputs": [
    {
     "name": "stdout",
     "output_type": "stream",
     "text": [
      "Converged in 14 iterations\n",
      "\n"
     ]
    },
    {
     "data": {
      "image/png": "[encoded data removed]",
      "text/plain": [
       "<matplotlib.figure.Figure at 0x1a47135048>"
      ]
     },
     "metadata": {},
     "output_type": "display_data"
    },
    {
     "name": "stdout",
     "output_type": "stream",
     "text": [
      "1: evidence, set, error, data, model, weight, bayesian, network, training, net\n",
      "2: unit, network, input, learning, model, pattern, weight, set, training, layer\n",
      "3: eeg, component, subject, signal, artifact, data, response, stimulus, trial, task\n",
      "4: optimization, objective, neural, dynamic, neuron, foa, method, function, net, mjolsness\n",
      "5: set, algorithm, training, data, function, error, learning, network, classifier, vector\n",
      "6: algorithm, function, network, learning, model, problem, approximation, error, weight, neural\n",
      "7: network, signal, weight, output, charge, filter, analog, transfer, jutten, chip\n",
      "8: network, input, unit, output, training, system, learning, data, representation, set\n",
      "9: network, model, neural, system, input, output, function, signal, training, set\n",
      "10: model, data, function, set, network, input, method, distribution, gaussian, error\n",
      "11: image, network, images, recognition, object, algorithm, input, neural, distance, pattern\n",
      "12: model, orientation, dominance, ocular, map, pattern, cortical, visual, center, input\n",
      "13: model, data, network, system, training, recognition, word, set, hmm, speech\n",
      "14: chip, neural, network, weight, neuron, analog, synapse, input, digital, system\n",
      "15: network, neural, neuron, routing, system, function, path, set, point, algorithm\n",
      "16: network, learning, neural, training, unit, algorithm, function, set, problem, input\n",
      "17: neuron, input, network, circuit, model, function, current, neural, output, system\n",
      "18: data, model, kernel, algorithm, function, network, set, point, parameter, neural\n",
      "19: network, bound, function, unit, number, weight, threshold, layer, neural, input\n",
      "20: cell, neuron, model, input, network, firing, synaptic, neural, spike, function\n",
      "21: model, data, network, call, channel, neural, cost, prediction, subscriber, risk\n",
      "22: learning, action, function, algorithm, policy, system, problem, network, reinforcement, model\n",
      "23: model, object, network, image, images, recognition, set, system, view, input\n",
      "24: model, data, distribution, function, algorithm, gaussian, component, set, information, parameter\n",
      "25: neuron, spike, model, input, learning, synaptic, frequency, signal, firing, sound\n",
      "26: system, visual, cell, motion, network, field, direction, neural, model, input\n",
      "27: network, learning, equation, field, function, solution, set, neural, neuron, model\n",
      "28: model, learning, control, system, movement, motor, position, network, neural, eye\n",
      "29: network, learning, unit, weight, input, function, output, error, hidden, neural\n",
      "30: graph, network, problem, point, algorithm, function, constraint, set, matrix, optimization\n"
     ]
    }
   ],
   "source": [
    "# Load the data\n",
    "nips_data = np.loadtxt('docword.nips.txt', skiprows=3, dtype=int)\n",
    "X = np.zeros(shape=(1500, 12419))\n",
    "\n",
    "# Prepare X\n",
    "for row in nips_data:\n",
    "    X[row[0]-1][row[1] -1] = row[2]\n",
    "\n",
    "em = EM(n_clusters=30)\n",
    "em.fit(X)\n",
    "\n",
    "plt.plot(em.py)\n",
    "plt.show()\n",
    "\n",
    "words = [line.strip() for line in open('vocab.nips.txt')]\n",
    "\n",
    "for j in range(30):\n",
    "    print(\"{}: \".format(j+1) + \", \".join(list(np.array(words)[np.argsort(em.p[:,j])[::-1][0:10]])))\n",
    "    \n"
   ]
  },
  {
   "cell_type": "code",
   "execution_count": null,
   "metadata": {
    "collapsed": true
   },
   "outputs": [],
   "source": []
  }
 ],
 "metadata": {
  "kernelspec": {
   "display_name": "Python 3",
   "language": "python",
   "name": "python3"
  },
  "language_info": {
   "codemirror_mode": {
    "name": "ipython",
    "version": 3
   },
   "file_extension": ".py",
   "mimetype": "text/x-python",
   "name": "python",
   "nbconvert_exporter": "python",
   "pygments_lexer": "ipython3",
   "version": "3.6.3"
  }
 },
 "nbformat": 4,
 "nbformat_minor": 2
}
