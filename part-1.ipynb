{
 "cells": [
  {
   "cell_type": "code",
   "execution_count": 142,
   "metadata": {
    "collapsed": true
   },
   "outputs": [],
   "source": [
    "from scipy.special import logsumexp\n",
    "from sklearn.cluster import KMeans\n",
    "from scipy.special import logsumexp\n",
    "import sys\n",
    "\n",
    "class EM:\n",
    "    p = None\n",
    "    dim = None # dimension of the data space\n",
    "    n_points = None # Number of data points\n",
    "    n_clusters = None # Number of clusters\n",
    "    pi = None # The prior probability vector of pi_j values\n",
    "    nnz = None\n",
    "    p_spread = .99 # the probability weight\n",
    "    X = None # the data\n",
    "    q_all = [sys.maxsize]\n",
    "    \n",
    "    def __init__(self, n_clusters):\n",
    "        self.n_clusters = n_clusters\n",
    "        return\n",
    "    \n",
    "    def initialize(self):\n",
    "        # init p, based on random X but keep all values non zero     \n",
    "        self.p = np.zeros(shape = (self.dim, self.n_clusters))\n",
    "        samples = np.random.randint(0, self.n_points-1, self.n_clusters)\n",
    "        for i, idx in enumerate(samples):\n",
    "            self.p[:, i] = (self.X[idx, :] + 1)/(np.sum(self.X[idx, :]) + self.dim)        \n",
    "        \n",
    "        # the prior\n",
    "        self.pi = np.ones(shape = self.n_clusters)/self.n_clusters\n",
    "        return\n",
    "    \n",
    "    def fit(self, X):\n",
    "        self.n_points = X.shape[0]\n",
    "        self.dim = X.shape[1]\n",
    "        self.X = X\n",
    "        self.initialize();\n",
    "        display(self.pi)\n",
    "        i = 1\n",
    "        while i < 100:\n",
    "            w = self.e_step()\n",
    "            self.m_step(w)\n",
    "            i = i + 1\n",
    "            \n",
    "        return\n",
    "    \n",
    "    def e_step(self):\n",
    "        W = np.dot(self.X, np.log(self.p)) + np.log(self.pi)\n",
    "        maxs = W.max(axis=1)\n",
    "        W = (W.T - maxs).T\n",
    "        W = (W.T - np.log(np.sum(np.exp(W), axis = 1))).T\n",
    "        W = np.exp(W)\n",
    "        return W\n",
    "    \n",
    "    def m_step(self, W):\n",
    "        self.pi = np.sum(W, axis = 0)/self.n_points\n",
    "        self.p = np.dot(self.X.T, W) + 1.0/self.dim\n",
    "        \n",
    "        colsum = np.sum(self.p, axis = 0)\n",
    "        self.p = self.p/colsum\n",
    "        return\n",
    "        "
   ]
  },
  {
   "cell_type": "code",
   "execution_count": 143,
   "metadata": {},
   "outputs": [
    {
     "data": {
      "text/plain": [
       "array([ 0.03333333,  0.03333333,  0.03333333,  0.03333333,  0.03333333,\n",
       "        0.03333333,  0.03333333,  0.03333333,  0.03333333,  0.03333333,\n",
       "        0.03333333,  0.03333333,  0.03333333,  0.03333333,  0.03333333,\n",
       "        0.03333333,  0.03333333,  0.03333333,  0.03333333,  0.03333333,\n",
       "        0.03333333,  0.03333333,  0.03333333,  0.03333333,  0.03333333,\n",
       "        0.03333333,  0.03333333,  0.03333333,  0.03333333,  0.03333333])"
      ]
     },
     "metadata": {},
     "output_type": "display_data"
    },
    {
     "data": {
      "text/plain": [
       "array([ 0.00272855,  0.03149104,  0.04745705,  0.02541001,  0.05218959,\n",
       "        0.03221946,  0.0160613 ,  0.04943047,  0.09358121,  0.07225768,\n",
       "        0.0146903 ,  0.00136283,  0.03149871,  0.05345986,  0.01093759,\n",
       "        0.01202083,  0.01740057,  0.00490765,  0.01668286,  0.00735053,\n",
       "        0.06505903,  0.01740047,  0.00939268,  0.06540778,  0.08958973,\n",
       "        0.00935842,  0.00200465,  0.10509282,  0.01400931,  0.02954703])"
      ]
     },
     "metadata": {},
     "output_type": "display_data"
    }
   ],
   "source": [
    "# Load the data\n",
    "nips_data = np.loadtxt('docword.nips.txt', skiprows=3, dtype=int)\n",
    "X = np.zeros(shape=(1500, 12419))\n",
    "\n",
    "# Prepare X\n",
    "for row in nips_data:\n",
    "    X[row[0]-1][row[1] -1] = row[2]\n",
    "\n",
    "em = EM(n_clusters=30)\n",
    "em.fit(X)\n",
    "display(em.pi)"
   ]
  },
  {
   "cell_type": "code",
   "execution_count": 144,
   "metadata": {},
   "outputs": [
    {
     "data": {
      "text/plain": [
       "[<matplotlib.lines.Line2D at 0x1a490ea7f0>]"
      ]
     },
     "execution_count": 144,
     "metadata": {},
     "output_type": "execute_result"
    },
    {
     "data": {
      "image/png": "[encoded data removed]",
      "text/plain": [
       "<matplotlib.figure.Figure at 0x1a4d9e6438>"
      ]
     },
     "metadata": {},
     "output_type": "display_data"
    }
   ],
   "source": [
    "plt.plot([i for i in range(1,31)], em.pi)"
   ]
  },
  {
   "cell_type": "code",
   "execution_count": 141,
   "metadata": {},
   "outputs": [
    {
     "data": {
      "text/plain": [
       "(12419, 30)"
      ]
     },
     "execution_count": 141,
     "metadata": {},
     "output_type": "execute_result"
    }
   ],
   "source": [
    "em.pi.sum()\n",
    "em.p.shape"
   ]
  },
  {
   "cell_type": "code",
   "execution_count": 145,
   "metadata": {},
   "outputs": [
    {
     "name": "stdout",
     "output_type": "stream",
     "text": [
      "Topic 0: gamma, memory, model, neural, operator, network, system, signal, principe, delay\n",
      "Topic 1: network, learning, neural, function, unit, training, input, model, set, system\n",
      "Topic 2: data, network, function, classifier, set, algorithm, model, learning, problem, error\n",
      "Topic 3: network, unit, weight, learning, training, algorithm, neural, problem, input, hidden\n",
      "Topic 4: neuron, model, cell, spike, input, unit, firing, pattern, information, neural\n",
      "Topic 5: cell, model, direction, input, network, orientation, function, neuron, unit, visual\n",
      "Topic 6: data, algorithm, network, set, input, model, neural, training, classification, learning\n",
      "Topic 7: network, error, weight, training, set, data, function, neural, model, input\n",
      "Topic 8: network, input, unit, model, system, output, object, neural, training, set\n",
      "Topic 9: function, algorithm, learning, set, network, training, weight, number, input, error\n",
      "Topic 10: network, bound, model, function, mean, field, variables, algorithm, distribution, log\n",
      "Topic 11: network, graph, hopfield, element, pairing, grouping, problem, saliency, group, computation\n",
      "Topic 12: network, input, learning, neural, output, function, model, layer, training, system\n",
      "Topic 13: learning, function, action, algorithm, control, model, policy, reinforcement, system, problem\n",
      "Topic 14: model, tree, algorithm, node, data, parameter, set, output, learning, nodes\n",
      "Topic 15: character, network, word, recognition, input, neural, system, set, output, training\n",
      "Topic 16: function, problem, network, point, solution, algorithm, method, constraint, neural, approximation\n",
      "Topic 17: model, sequences, algorithm, source, data, clustering, markov, sequence, likelihood, grammar\n",
      "Topic 18: learning, policy, algorithm, action, system, problem, network, model, function, call\n",
      "Topic 19: network, learning, student, generalization, expert, error, teacher, unit, weight, hidden\n",
      "Topic 20: model, image, data, images, network, function, algorithm, set, object, learning\n",
      "Topic 21: model, input, neuron, network, output, eye, cell, unit, system, gain\n",
      "Topic 22: model, movement, control, motor, learning, arm, trajectory, hand, dynamic, point\n",
      "Topic 23: network, model, speech, training, system, word, recognition, data, set, input\n",
      "Topic 24: model, learning, network, algorithm, data, function, set, error, parameter, input\n",
      "Topic 25: vector, classifier, class, pattern, classification, algorithm, data, method, nearest, error\n",
      "Topic 26: perturbation, weight, learning, gradient, neuron, network, error, neural, term, parallel\n",
      "Topic 27: network, neuron, neural, input, system, model, function, learning, pattern, weight\n",
      "Topic 28: distribution, model, function, data, gaussian, point, space, algorithm, network, variables\n",
      "Topic 29: circuit, cell, system, output, model, chip, input, current, analog, voltage\n"
     ]
    }
   ],
   "source": [
    "words = [line.strip() for line in open('vocab.nips.txt')]\n",
    "\n",
    "p = em.p.T\n",
    "for j in range(30):\n",
    "    ind = np.argpartition(p[j,], - 10)[-10:]\n",
    "    ind = ind[np.argsort(p[j, ind])][::-1] # sorted indices\n",
    "    print(\"Topic \" + str(j) + \":\", \", \".join([words[i] for i in ind]))"
   ]
  },
  {
   "cell_type": "code",
   "execution_count": null,
   "metadata": {
    "collapsed": true
   },
   "outputs": [],
   "source": []
  }
 ],
 "metadata": {
  "kernelspec": {
   "display_name": "Python 3",
   "language": "python",
   "name": "python3"
  }
 },
 "nbformat": 4,
 "nbformat_minor": 2
}
