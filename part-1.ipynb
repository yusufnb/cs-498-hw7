{
 "cells": [
  {
   "cell_type": "code",
   "execution_count": 1,
   "metadata": {
    "collapsed": true
   },
   "outputs": [],
   "source": [
    "import numpy as np\n",
    "import matplotlib.pyplot as plt\n",
    "\n",
    "class EM:\n",
    "    p = None\n",
    "    dim = None # dimension of the data space\n",
    "    n_points = None # Number of data points\n",
    "    n_clusters = None # Number of clusters\n",
    "    py = None # The prior probability vector of py_j values\n",
    "    X = None # the data\n",
    "    \n",
    "    def __init__(self, n_clusters):\n",
    "        self.n_clusters = n_clusters\n",
    "        return\n",
    "    \n",
    "    def initialize(self):\n",
    "        # init p, based on random X but keep all values non zero     \n",
    "        self.p = np.zeros(shape = (self.dim, self.n_clusters))\n",
    "        samples = np.random.randint(0, self.n_points-1, self.n_clusters)\n",
    "        for i, index in enumerate(samples):\n",
    "            self.p[:, i] = (self.X[index, :] + 1)/(np.sum(self.X[index, :]) + self.dim)        \n",
    "        \n",
    "        # the prior\n",
    "        self.py = np.ones(shape = self.n_clusters)/self.n_clusters\n",
    "        return\n",
    "    \n",
    "    def fit(self, X):\n",
    "        self.n_points = X.shape[0]\n",
    "        self.dim = X.shape[1]\n",
    "        self.X = X\n",
    "        self.initialize();\n",
    "        i = 1\n",
    "        w_old = None\n",
    "        while True:\n",
    "            # E Step\n",
    "            w = self.e_step()\n",
    "            \n",
    "            # M Step\n",
    "            self.m_step(w)\n",
    "            \n",
    "            # check for convergence and break\n",
    "            if (w_old is not None):\n",
    "                dist = np.linalg.norm(w - w_old)\n",
    "                if dist < 0.00001:\n",
    "                    break\n",
    "            w_old = np.copy(w)\n",
    "            \n",
    "            # Just for infinite loop protection\n",
    "            i = i + 1\n",
    "            if (i > 100):\n",
    "                break\n",
    "            \n",
    "        print(\"Converged in {} iterations\\n\".format(i))\n",
    "        return\n",
    "    \n",
    "    def e_step(self):\n",
    "        # Implement E step here\n",
    "        W = np.dot(self.X, np.log(self.p)) + np.log(self.py)\n",
    "        W = (W.T - W.max(axis=1)).T\n",
    "        W = (W.T - np.log(np.sum(np.exp(W), axis = 1))).T\n",
    "        W = np.exp(W)\n",
    "        return W\n",
    "    \n",
    "    def m_step(self, W):\n",
    "        # Implement M step here\n",
    "        \n",
    "        # Recalculate py\n",
    "        self.py = np.sum(W, axis = 0)/self.n_points\n",
    "        \n",
    "        # Recalculate p\n",
    "        self.p = np.dot(self.X.T, W) + 1.0/self.dim        \n",
    "        self.p = self.p/np.sum(self.p, axis = 0)\n",
    "        return\n",
    "        "
   ]
  },
  {
   "cell_type": "code",
   "execution_count": 2,
   "metadata": {},
   "outputs": [
    {
     "name": "stdout",
     "output_type": "stream",
     "text": [
      "Converged in 9 iterations\n",
      "\n"
     ]
    },
    {
     "data": {
      "image/png": "[encoded data removed]",
      "text/plain": [
       "<matplotlib.figure.Figure at 0x10711a7f0>"
      ]
     },
     "metadata": {},
     "output_type": "display_data"
    },
    {
     "name": "stdout",
     "output_type": "stream",
     "text": [
      "1: level, stress, vowel, syllable, model, mapping, representation, heavy, phonology, pattern\n",
      "2: network, function, unit, input, weight, output, learning, neural, hidden, layer\n",
      "3: network, training, neural, rules, set, method, examples, system, algorithm, learning\n",
      "4: network, learning, algorithm, unit, set, training, input, problem, neural, function\n",
      "5: image, images, model, set, recognition, data, face, distance, method, object\n",
      "6: learning, action, function, algorithm, policy, set, problem, model, system, states\n",
      "7: circuit, input, network, output, chip, neuron, current, weight, neural, voltage\n",
      "8: model, data, gaussian, distribution, function, parameter, network, method, set, bayesian\n",
      "9: algorithm, function, problem, set, learning, number, tree, graph, result, data\n",
      "10: model, movement, motor, control, system, trajectory, network, point, arm, forward\n",
      "11: network, speech, recognition, speaker, word, training, system, neural, input, performance\n",
      "12: network, neuron, neural, model, input, learning, function, pattern, system, synaptic\n",
      "13: coefficient, gaussian, wavelet, images, natural, model, histogram, joint, distribution, gsm\n",
      "14: cell, visual, model, image, input, system, map, motion, information, field\n",
      "15: network, system, model, input, neural, set, learning, unit, training, data\n",
      "16: cell, model, input, network, system, neuron, direction, function, orientation, neural\n",
      "17: model, gamma, memory, network, neural, operator, kernel, system, layer, signal\n",
      "18: model, learning, network, algorithm, function, problem, system, data, unit, parameter\n",
      "19: network, model, data, learning, error, training, set, function, algorithm, input\n",
      "20: model, object, network, visual, input, unit, layer, neuron, cell, pattern\n",
      "21: learning, algorithm, function, action, policy, problem, optimal, convergence, step, result\n",
      "22: frequency, images, filter, natural, function, spatial, visual, information, power, image\n",
      "23: unit, network, input, learning, training, context, representation, output, hidden, set\n",
      "24: david, michael, john, richard, peter, author, index, thomas, eric, paul\n",
      "25: dynamic, model, equation, neuron, network, parameter, theory, order, interaction, coolen\n",
      "26: model, distribution, function, gaussian, point, data, spin, variables, number, cluster\n",
      "27: function, network, bound, learning, error, set, algorithm, result, neural, number\n",
      "28: network, neuron, system, neural, model, circuit, input, chip, analog, function\n",
      "29: network, mean, field, model, bound, approximation, distribution, algorithm, variables, set\n",
      "30: signal, input, channel, network, system, output, noise, neural, data, set\n"
     ]
    }
   ],
   "source": [
    "# Load the data\n",
    "nips_data = np.loadtxt('docword.nips.txt', skiprows=3, dtype=int)\n",
    "X = np.zeros(shape=(1500, 12419))\n",
    "\n",
    "# Prepare X\n",
    "for row in nips_data:\n",
    "    X[row[0]-1][row[1] -1] = row[2]\n",
    "\n",
    "em = EM(n_clusters=30)\n",
    "em.fit(X)\n",
    "\n",
    "plt.plot(em.py)\n",
    "plt.show()\n",
    "\n",
    "words = [line.strip() for line in open('vocab.nips.txt')]\n",
    "\n",
    "for j in range(30):\n",
    "    print(\"{}: \".format(j+1) + \", \".join(list(np.array(words)[np.argsort(em.p[:,j])[::-1][0:10]])))\n",
    "    \n"
   ]
  },
  {
   "cell_type": "code",
   "execution_count": null,
   "metadata": {
    "collapsed": true
   },
   "outputs": [],
   "source": []
  }
 ],
 "metadata": {
  "kernelspec": {
   "display_name": "Python 3",
   "language": "python",
   "name": "python3"
  },
  "language_info": {
   "codemirror_mode": {
    "name": "ipython",
    "version": 3
   },
   "file_extension": ".py",
   "mimetype": "text/x-python",
   "name": "python",
   "nbconvert_exporter": "python",
   "pygments_lexer": "ipython3",
   "version": "3.6.3"
  }
 },
 "nbformat": 4,
 "nbformat_minor": 2
}
