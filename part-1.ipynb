{
 "cells": [
  {
   "cell_type": "code",
   "execution_count": 130,
   "metadata": {
    "collapsed": true
   },
   "outputs": [],
   "source": [
    "from scipy.special import logsumexp\n",
    "from sklearn.cluster import KMeans\n",
    "from scipy.special import logsumexp\n",
    "import sys\n",
    "\n",
    "class EM:\n",
    "    p = None\n",
    "    dim = None # dimension of the data space\n",
    "    n_points = None # Number of data points\n",
    "    n_clusters = None # Number of clusters\n",
    "    pi = None # The prior probability vector of pi_j values\n",
    "    nnz = None\n",
    "    p_spread = .99 # the probability weight\n",
    "    X = None # the data\n",
    "    q_all = [sys.maxsize]\n",
    "    \n",
    "    def __init__(self, n_clusters):\n",
    "        self.n_clusters = n_clusters\n",
    "        return\n",
    "    \n",
    "    # private method\n",
    "    # initialize p and pi using KMeans\n",
    "    def initialize(self):\n",
    "                \n",
    "        self.p = np.zeros(shape = (self.dim, self.n_clusters))\n",
    "        init_centers = np.random.randint(0, self.n_points-1, self.n_clusters)\n",
    "        for i, idx in enumerate(init_centers):\n",
    "            self.p[:, i] = (self.X[idx, :] + 1)/(np.sum(self.X[idx, :]) + self.dim)        \n",
    "                  \n",
    "        self.pi = np.ones(shape = self.n_clusters)/self.n_clusters\n",
    "        return\n",
    "    \n",
    "    def fit(self, X):\n",
    "        self.n_points = X.shape[0]\n",
    "        self.dim = X.shape[1]\n",
    "        self.X = X\n",
    "        self.initialize();\n",
    "        display(self.pi)\n",
    "        i = 1\n",
    "        while i < 100:\n",
    "            w = self.e_step()\n",
    "            self.m_step(w)\n",
    "            #if (abs(self.q_all[-1] - self.q_all[-2]) < 0.0001):\n",
    "            #    break\n",
    "            i = i + 1\n",
    "            \n",
    "        return\n",
    "    \n",
    "    def e_step(self):\n",
    "        W = np.dot(self.X, np.log(self.p)) + np.log(self.pi)\n",
    "        maxs = W.max(axis=1)\n",
    "        W = (W.T - maxs).T\n",
    "        W = (W.T - np.log(np.sum(np.exp(W), axis = 1))).T\n",
    "        W = np.exp(W)\n",
    "        return W\n",
    "    \n",
    "    def m_step(self, W):\n",
    "        self.pi = np.sum(W, axis = 0)/self.n_points\n",
    "        self.p = np.dot(self.X.T, W) + 1.0/self.dim\n",
    "        \n",
    "        colsum = np.sum(self.p, axis = 0)\n",
    "        self.p = self.p/colsum\n",
    "        return\n",
    "        "
   ]
  },
  {
   "cell_type": "code",
   "execution_count": 131,
   "metadata": {},
   "outputs": [
    {
     "data": {
      "text/plain": [
       "array([ 0.03333333,  0.03333333,  0.03333333,  0.03333333,  0.03333333,\n",
       "        0.03333333,  0.03333333,  0.03333333,  0.03333333,  0.03333333,\n",
       "        0.03333333,  0.03333333,  0.03333333,  0.03333333,  0.03333333,\n",
       "        0.03333333,  0.03333333,  0.03333333,  0.03333333,  0.03333333,\n",
       "        0.03333333,  0.03333333,  0.03333333,  0.03333333,  0.03333333,\n",
       "        0.03333333,  0.03333333,  0.03333333,  0.03333333,  0.03333333])"
      ]
     },
     "metadata": {},
     "output_type": "display_data"
    },
    {
     "data": {
      "text/plain": [
       "array([ 0.01069603,  0.00607762,  0.08687719,  0.03230954,  0.01068753,\n",
       "        0.01017756,  0.00537914,  0.02675252,  0.09084407,  0.0026866 ,\n",
       "        0.06242345,  0.01338796,  0.09012713,  0.00867599,  0.0389598 ,\n",
       "        0.04488208,  0.01071186,  0.05275172,  0.04690505,  0.05684796,\n",
       "        0.03014883,  0.01138006,  0.05743356,  0.01201575,  0.0040161 ,\n",
       "        0.04535226,  0.01475566,  0.00401676,  0.01604811,  0.09667211])"
      ]
     },
     "metadata": {},
     "output_type": "display_data"
    }
   ],
   "source": [
    "# Load the data\n",
    "nips_data = np.loadtxt('docword.nips.txt', skiprows=3, dtype=int)\n",
    "X = np.zeros(shape=(1500, 12419))\n",
    "\n",
    "# Prepare X\n",
    "for row in nips_data:\n",
    "    X[row[0]-1][row[1] -1] = row[2]\n",
    "\n",
    "em = EM(n_clusters=30)\n",
    "em.fit(X)\n",
    "display(em.pi)"
   ]
  },
  {
   "cell_type": "code",
   "execution_count": 132,
   "metadata": {},
   "outputs": [
    {
     "data": {
      "text/plain": [
       "[<matplotlib.lines.Line2D at 0x1a4da0bd30>]"
      ]
     },
     "execution_count": 132,
     "metadata": {},
     "output_type": "execute_result"
    },
    {
     "data": {
      "image/png": "[encoded data removed]",
      "text/plain": [
       "<matplotlib.figure.Figure at 0x124556208>"
      ]
     },
     "metadata": {},
     "output_type": "display_data"
    }
   ],
   "source": [
    "plt.plot([i for i in range(1,31)], em.pi)"
   ]
  },
  {
   "cell_type": "code",
   "execution_count": 102,
   "metadata": {},
   "outputs": [
    {
     "data": {
      "text/plain": [
       "0.00066666666666666643"
      ]
     },
     "execution_count": 102,
     "metadata": {},
     "output_type": "execute_result"
    }
   ],
   "source": [
    "em.pi.sum()"
   ]
  },
  {
   "cell_type": "code",
   "execution_count": 138,
   "metadata": {},
   "outputs": [
    {
     "name": "stdout",
     "output_type": "stream",
     "text": [
      "Topic 0: sound, model, signal, auditory, target, frequency, system, component, response, visual\n",
      "Topic 1: network, neuron, input, item, classifier, system, classification, set, rules, layer\n",
      "Topic 2: model, data, network, algorithm, parameter, system, function, neural, learning, set\n",
      "Topic 3: model, eye, system, movement, head, direction, position, cell, motor, network\n",
      "Topic 4: component, information, distribution, order, approximation, algorithm, independent, function, learning, data\n",
      "Topic 5: image, disparity, region, network, data, model, point, problem, images, local\n",
      "Topic 6: network, neural, processor, simulation, system, parallel, data, model, computer, neuron\n",
      "Topic 7: network, function, neural, input, threshold, weight, neuron, output, number, circuit\n",
      "Topic 8: network, function, learning, weight, input, data, model, error, neural, training\n",
      "Topic 9: network, learning, trajectory, algorithm, equation, gradient, neural, control, trajectories, input\n",
      "Topic 10: model, cell, input, system, network, signal, information, output, function, noise\n",
      "Topic 11: circuit, network, analog, chip, neural, function, system, problem, image, algorithm\n",
      "Topic 12: algorithm, function, set, learning, data, training, error, vector, problem, classifier\n",
      "Topic 13: tree, model, data, node, algorithm, cluster, nodes, learning, network, number\n",
      "Topic 14: network, unit, input, word, system, set, representation, training, pattern, model\n",
      "Topic 15: model, input, motion, network, neuron, cell, unit, learning, pattern, visual\n",
      "Topic 16: network, learning, algorithm, function, distribution, perceptron, set, node, bound, routing\n",
      "Topic 17: network, training, neural, learning, input, set, error, output, function, model\n",
      "Topic 18: network, function, unit, learning, weight, hidden, neural, error, input, point\n",
      "Topic 19: neuron, cell, model, input, synaptic, network, current, response, firing, function\n",
      "Topic 20: network, data, neural, model, function, image, set, learning, problem, images\n",
      "Topic 21: model, set, data, algorithm, method, local, learning, document, query, point\n",
      "Topic 22: learning, action, function, algorithm, policy, model, problem, system, optimal, control\n",
      "Topic 23: learning, weight, network, error, algorithm, order, training, unit, function, set\n",
      "Topic 24: model, light, learning, prediction, reward, subscriber, data, behavior, rate, animal\n",
      "Topic 25: object, model, image, network, recognition, feature, view, set, features, images\n",
      "Topic 26: chip, network, neural, weight, neuron, analog, input, circuit, synapse, system\n",
      "Topic 27: network, neuron, system, pattern, star, neural, event, data, set, algorithm\n",
      "Topic 28: learning, model, algorithm, memory, point, set, control, problem, system, data\n",
      "Topic 29: network, unit, training, input, neural, system, set, output, hidden, recognition\n"
     ]
    }
   ],
   "source": [
    "words = [line.strip() for line in open('vocab.nips.txt')]\n",
    "\n",
    "p = em.p.T\n",
    "for j in range(30):\n",
    "    ind = np.argpartition(p[j,], - 10)[-10:]\n",
    "    ind = ind[np.argsort(p[j, ind])][::-1] # sorted indices\n",
    "    print(\"Topic \" + str(j) + \":\", \", \".join([words[i] for i in ind]))"
   ]
  },
  {
   "cell_type": "code",
   "execution_count": null,
   "metadata": {
    "collapsed": true
   },
   "outputs": [],
   "source": []
  }
 ],
 "metadata": {
  "kernelspec": {
   "display_name": "Python 3",
   "language": "python",
   "name": "python3"
  }
 },
 "nbformat": 4,
 "nbformat_minor": 2
}
