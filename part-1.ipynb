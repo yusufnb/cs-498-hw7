{
 "cells": [
  {
   "cell_type": "code",
   "execution_count": 121,
   "metadata": {
    "collapsed": true
   },
   "outputs": [],
   "source": [
    "from scipy.special import logsumexp\n",
    "from sklearn.cluster import KMeans\n",
    "from scipy.special import logsumexp\n",
    "import sys\n",
    "\n",
    "class EM:\n",
    "    p = None\n",
    "    dim = None # dimension of the data space\n",
    "    n_points = None # Number of data points\n",
    "    n_clusters = None # Number of clusters\n",
    "    pi = None # The prior probability vector of pi_j values\n",
    "    nnz = None\n",
    "    p_spread = .99 # the probability weight\n",
    "    X = None # the data\n",
    "    q_all = [sys.maxsize]\n",
    "    \n",
    "    def __init__(self, n_clusters):\n",
    "        self.n_clusters = n_clusters\n",
    "        return\n",
    "    \n",
    "    # private method\n",
    "    # initialize p and pi using KMeans\n",
    "    def initialize(self):\n",
    "        \n",
    "        self.p = 1.0/self.dim * np.ones((self.n_clusters, self.dim))\n",
    "        self.pi = 1.0/self.n_clusters * np.ones(self.n_clusters)\n",
    "        \n",
    "        km = KMeans(n_clusters=self.n_clusters)\n",
    "        km.fit(self.X)\n",
    "        clusters = km.labels_\n",
    "        \n",
    "        for j in range(self.n_clusters):\n",
    "            cluster_points = self.X[clusters == j, :]\n",
    "            self.pi[j] = cluster_points.shape[0] / self.n_points\n",
    "            \n",
    "            dist = np.sum(cluster_points, 0)\n",
    "            p_j = dist * self.p_spread / np.sum(dist)\n",
    "            zero_count = (p_j == 0).sum()\n",
    "            p_j[p_j == 0] = (1 - self.p_spread)/zero_count\n",
    "            \n",
    "            self.p[j] = p_j\n",
    "            \n",
    "        self.p = self.p.transpose()\n",
    "        self.pi = np.ones(shape = self.n_clusters)/self.n_clusters\n",
    "                            \n",
    "        return\n",
    "    \n",
    "    def fit(self, X):\n",
    "        self.n_points = X.shape[0]\n",
    "        self.dim = X.shape[1]\n",
    "        self.X = X\n",
    "        self.initialize();\n",
    "        display(self.pi)\n",
    "        i = 1\n",
    "        while i < 100:\n",
    "            w = self.e_step()\n",
    "            self.m_step(w)\n",
    "            #if (abs(self.q_all[-1] - self.q_all[-2]) < 0.0001):\n",
    "            #    break\n",
    "            i = i + 1\n",
    "            \n",
    "        return\n",
    "    \n",
    "    def e_step(self):\n",
    "        W = np.dot(self.X, np.log(self.p)) + np.log(self.pi)\n",
    "        maxs = W.max(axis=1)\n",
    "        W = (W.T - maxs).T\n",
    "        W = (W.T - np.log(np.sum(np.exp(W), axis = 1))).T\n",
    "        W = np.exp(W)\n",
    "        return W\n",
    "    \n",
    "    def m_step(self, W):\n",
    "        self.pi = np.sum(W, axis = 0)/self.n_points\n",
    "        self.p = np.dot(self.X.T, W) + 1.0/self.dim\n",
    "        \n",
    "        colsum = np.sum(self.p, axis = 0)\n",
    "        self.p = self.p/colsum\n",
    "        return\n",
    "        "
   ]
  },
  {
   "cell_type": "code",
   "execution_count": 119,
   "metadata": {},
   "outputs": [
    {
     "data": {
      "text/plain": [
       "array([ 0.03333333,  0.03333333,  0.03333333,  0.03333333,  0.03333333,\n",
       "        0.03333333,  0.03333333,  0.03333333,  0.03333333,  0.03333333,\n",
       "        0.03333333,  0.03333333,  0.03333333,  0.03333333,  0.03333333,\n",
       "        0.03333333,  0.03333333,  0.03333333,  0.03333333,  0.03333333,\n",
       "        0.03333333,  0.03333333,  0.03333333,  0.03333333,  0.03333333,\n",
       "        0.03333333,  0.03333333,  0.03333333,  0.03333333,  0.03333333])"
      ]
     },
     "metadata": {},
     "output_type": "display_data"
    },
    {
     "data": {
      "text/plain": [
       "array([ 0.08238012,  0.01545686,  0.01078279,  0.01603655,  0.08040543,\n",
       "        0.00401053,  0.02145098,  0.0561089 ,  0.02676344,  0.06348107,\n",
       "        0.04142736,  0.00406676,  0.00066667,  0.01771888,  0.00133556,\n",
       "        0.01744409,  0.05411418,  0.0443871 ,  0.08378812,  0.03471061,\n",
       "        0.0020006 ,  0.03615978,  0.00200105,  0.13097755,  0.00333437,\n",
       "        0.00671165,  0.01536547,  0.00266796,  0.07742448,  0.04682109])"
      ]
     },
     "metadata": {},
     "output_type": "display_data"
    }
   ],
   "source": [
    "# Load the data\n",
    "nips_data = np.loadtxt('docword.nips.txt', skiprows=3, dtype=int)\n",
    "X = np.zeros(shape=(1500, 12419))\n",
    "\n",
    "# Prepare X\n",
    "for row in nips_data:\n",
    "    X[row[0]-1][row[1] -1] = row[2]\n",
    "\n",
    "em = EM(n_clusters=30)\n",
    "em.fit(X)\n",
    "display(em.pi)"
   ]
  },
  {
   "cell_type": "code",
   "execution_count": 120,
   "metadata": {},
   "outputs": [
    {
     "data": {
      "text/plain": [
       "1.0"
      ]
     },
     "execution_count": 120,
     "metadata": {},
     "output_type": "execute_result"
    }
   ],
   "source": [
    "em.pi.sum()"
   ]
  },
  {
   "cell_type": "code",
   "execution_count": 99,
   "metadata": {},
   "outputs": [
    {
     "data": {
      "text/plain": [
       "[<matplotlib.lines.Line2D at 0x1a48d78c88>]"
      ]
     },
     "execution_count": 99,
     "metadata": {},
     "output_type": "execute_result"
    },
    {
     "data": {
      "image/png": "[encoded data removed]",
      "text/plain": [
       "<matplotlib.figure.Figure at 0x1a491b2c18>"
      ]
     },
     "metadata": {},
     "output_type": "display_data"
    }
   ],
   "source": [
    "import matplotlib.pyplot as plt\n",
    "%matplotlib inline\n",
    "plt.plot(em.q_all[1:])"
   ]
  },
  {
   "cell_type": "code",
   "execution_count": 115,
   "metadata": {},
   "outputs": [
    {
     "data": {
      "text/plain": [
       "[<matplotlib.lines.Line2D at 0x1a4e1b4358>]"
      ]
     },
     "execution_count": 115,
     "metadata": {},
     "output_type": "execute_result"
    },
    {
     "data": {
      "image/png": "[encoded data removed]",
      "text/plain": [
       "<matplotlib.figure.Figure at 0x1a493d76d8>"
      ]
     },
     "metadata": {},
     "output_type": "display_data"
    }
   ],
   "source": [
    "plt.plot([i for i in range(1,31)], em.pi)"
   ]
  },
  {
   "cell_type": "code",
   "execution_count": 102,
   "metadata": {},
   "outputs": [
    {
     "data": {
      "text/plain": [
       "0.00066666666666666643"
      ]
     },
     "execution_count": 102,
     "metadata": {},
     "output_type": "execute_result"
    }
   ],
   "source": [
    "em.pi.sum()"
   ]
  },
  {
   "cell_type": "code",
   "execution_count": null,
   "metadata": {
    "collapsed": true
   },
   "outputs": [],
   "source": []
  },
  {
   "cell_type": "code",
   "execution_count": null,
   "metadata": {
    "collapsed": true
   },
   "outputs": [],
   "source": []
  }
 ],
 "metadata": {
  "kernelspec": {
   "display_name": "Python 3",
   "language": "python",
   "name": "python3"
  }
 },
 "nbformat": 4,
 "nbformat_minor": 2
}
