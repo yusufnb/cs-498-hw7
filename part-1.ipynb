{
 "cells": [
  {
   "cell_type": "code",
   "execution_count": 3,
   "metadata": {
    "collapsed": true
   },
   "outputs": [],
   "source": [
    "import numpy as np\n",
    "import matplotlib.pyplot as plt\n",
    "\n",
    "class EM:\n",
    "    p = None\n",
    "    dim = None # dimension of the data space\n",
    "    n_points = None # Number of data points\n",
    "    n_clusters = None # Number of clusters\n",
    "    pi = None # The prior probability vector of pi_j values\n",
    "    X = None # the data\n",
    "    \n",
    "    def __init__(self, n_clusters):\n",
    "        self.n_clusters = n_clusters\n",
    "        return\n",
    "    \n",
    "    def initialize(self):\n",
    "        # init p, based on random X but keep all values non zero     \n",
    "        self.p = np.zeros(shape = (self.dim, self.n_clusters))\n",
    "        samples = np.random.randint(0, self.n_points-1, self.n_clusters)\n",
    "        for i, index in enumerate(samples):\n",
    "            self.p[:, i] = (self.X[index, :] + 1)/(np.sum(self.X[index, :]) + self.dim)        \n",
    "        \n",
    "        # the prior\n",
    "        self.pi = np.ones(shape = self.n_clusters)/self.n_clusters\n",
    "        return\n",
    "    \n",
    "    def fit(self, X):\n",
    "        self.n_points = X.shape[0]\n",
    "        self.dim = X.shape[1]\n",
    "        self.X = X\n",
    "        self.initialize();\n",
    "        i = 1\n",
    "        while i < 100:\n",
    "            w = self.e_step()\n",
    "            self.m_step(w)\n",
    "            i = i + 1\n",
    "            \n",
    "        return\n",
    "    \n",
    "    def e_step(self):\n",
    "        W = np.dot(self.X, np.log(self.p)) + np.log(self.pi)\n",
    "        maxs = W.max(axis=1)\n",
    "        W = (W.T - maxs).T\n",
    "        W = (W.T - np.log(np.sum(np.exp(W), axis = 1))).T\n",
    "        W = np.exp(W)\n",
    "        return W\n",
    "    \n",
    "    def m_step(self, W):\n",
    "        self.pi = np.sum(W, axis = 0)/self.n_points\n",
    "        self.p = np.dot(self.X.T, W) + 1.0/self.dim\n",
    "        \n",
    "        colsum = np.sum(self.p, axis = 0)\n",
    "        self.p = self.p/colsum\n",
    "        return\n",
    "        "
   ]
  },
  {
   "cell_type": "code",
   "execution_count": 4,
   "metadata": {},
   "outputs": [
    {
     "data": {
      "image/png": "[encoded data removed]",
      "text/plain": [
       "<matplotlib.figure.Figure at 0x10c9283c8>"
      ]
     },
     "metadata": {},
     "output_type": "display_data"
    },
    {
     "data": {
      "text/plain": [
       "'1: object, model, image, network, cell, visual, unit, input, system, view'"
      ]
     },
     "metadata": {},
     "output_type": "display_data"
    },
    {
     "data": {
      "text/plain": [
       "'2: pattern, network, matrix, point, spin, cluster, algorithm, function, phase, probability'"
      ]
     },
     "metadata": {},
     "output_type": "display_data"
    },
    {
     "data": {
      "text/plain": [
       "'3: learning, student, error, training, equation, teacher, network, set, weight, parameter'"
      ]
     },
     "metadata": {},
     "output_type": "display_data"
    },
    {
     "data": {
      "text/plain": [
       "'4: network, error, committee, set, performance, data, training, neural, method, correlation'"
      ]
     },
     "metadata": {},
     "output_type": "display_data"
    },
    {
     "data": {
      "text/plain": [
       "'5: model, data, algorithm, parameter, learning, set, number, distribution, probability, hmm'"
      ]
     },
     "metadata": {},
     "output_type": "display_data"
    },
    {
     "data": {
      "text/plain": [
       "'6: network, model, input, data, system, set, neural, learning, function, information'"
      ]
     },
     "metadata": {},
     "output_type": "display_data"
    },
    {
     "data": {
      "text/plain": [
       "'7: function, data, model, kernel, set, vector, algorithm, distribution, space, point'"
      ]
     },
     "metadata": {},
     "output_type": "display_data"
    },
    {
     "data": {
      "text/plain": [
       "'8: system, speech, network, recognition, neural, hmm, algorithm, janus, approach, learning'"
      ]
     },
     "metadata": {},
     "output_type": "display_data"
    },
    {
     "data": {
      "text/plain": [
       "'9: network, neural, system, model, input, signal, output, learning, function, neuron'"
      ]
     },
     "metadata": {},
     "output_type": "display_data"
    },
    {
     "data": {
      "text/plain": [
       "'10: neuron, network, model, system, noise, neural, dynamic, synaptic, pattern, function'"
      ]
     },
     "metadata": {},
     "output_type": "display_data"
    },
    {
     "data": {
      "text/plain": [
       "'11: model, data, image, images, set, network, system, learning, neural, algorithm'"
      ]
     },
     "metadata": {},
     "output_type": "display_data"
    },
    {
     "data": {
      "text/plain": [
       "'12: field, network, mean, distribution, model, learning, approximation, function, weight, data'"
      ]
     },
     "metadata": {},
     "output_type": "display_data"
    },
    {
     "data": {
      "text/plain": [
       "'13: network, training, set, error, data, learning, input, function, neural, model'"
      ]
     },
     "metadata": {},
     "output_type": "display_data"
    },
    {
     "data": {
      "text/plain": [
       "'14: network, unit, input, output, learning, hidden, weight, pattern, neural, function'"
      ]
     },
     "metadata": {},
     "output_type": "display_data"
    },
    {
     "data": {
      "text/plain": [
       "'15: learning, model, network, control, system, controller, input, neural, function, unit'"
      ]
     },
     "metadata": {},
     "output_type": "display_data"
    },
    {
     "data": {
      "text/plain": [
       "'16: network, learning, function, algorithm, weight, neural, input, error, problem, vector'"
      ]
     },
     "metadata": {},
     "output_type": "display_data"
    },
    {
     "data": {
      "text/plain": [
       "'17: model, network, function, signal, system, algorithm, data, neural, linear, noise'"
      ]
     },
     "metadata": {},
     "output_type": "display_data"
    },
    {
     "data": {
      "text/plain": [
       "'18: network, layer, input, output, optical, current, chip, flow, signal, function'"
      ]
     },
     "metadata": {},
     "output_type": "display_data"
    },
    {
     "data": {
      "text/plain": [
       "'19: network, data, input, model, function, set, system, training, density, output'"
      ]
     },
     "metadata": {},
     "output_type": "display_data"
    },
    {
     "data": {
      "text/plain": [
       "'20: pattern, space, classifier, feature, vector, learning, error, mapping, classification, probability'"
      ]
     },
     "metadata": {},
     "output_type": "display_data"
    },
    {
     "data": {
      "text/plain": [
       "'21: network, rules, protein, neural, learning, method, training, knowledge, set, structure'"
      ]
     },
     "metadata": {},
     "output_type": "display_data"
    },
    {
     "data": {
      "text/plain": [
       "'22: learning, action, function, algorithm, policy, problem, optimal, states, reinforcement, method'"
      ]
     },
     "metadata": {},
     "output_type": "display_data"
    },
    {
     "data": {
      "text/plain": [
       "'23: model, neuron, input, system, learning, motor, network, control, circuit, neural'"
      ]
     },
     "metadata": {},
     "output_type": "display_data"
    },
    {
     "data": {
      "text/plain": [
       "'24: neuron, network, layer, input, neural, item, signal, chip, model, weight'"
      ]
     },
     "metadata": {},
     "output_type": "display_data"
    },
    {
     "data": {
      "text/plain": [
       "'25: function, learning, network, error, distribution, input, gaussian, result, bound, training'"
      ]
     },
     "metadata": {},
     "output_type": "display_data"
    },
    {
     "data": {
      "text/plain": [
       "'26: input, representation, model, hippocampal, learning, pattern, memory, david, michael, region'"
      ]
     },
     "metadata": {},
     "output_type": "display_data"
    },
    {
     "data": {
      "text/plain": [
       "'27: cell, neuron, model, input, visual, response, stimulus, spike, firing, information'"
      ]
     },
     "metadata": {},
     "output_type": "display_data"
    },
    {
     "data": {
      "text/plain": [
       "'28: algorithm, function, problem, learning, channel, call, cell, cost, number, search'"
      ]
     },
     "metadata": {},
     "output_type": "display_data"
    },
    {
     "data": {
      "text/plain": [
       "'29: network, attractor, system, dynamic, neural, model, point, learning, unit, connection'"
      ]
     },
     "metadata": {},
     "output_type": "display_data"
    },
    {
     "data": {
      "text/plain": [
       "'30: network, algorithm, neural, input, system, circuit, function, set, chip, learning'"
      ]
     },
     "metadata": {},
     "output_type": "display_data"
    }
   ],
   "source": [
    "# Load the data\n",
    "nips_data = np.loadtxt('docword.nips.txt', skiprows=3, dtype=int)\n",
    "X = np.zeros(shape=(1500, 12419))\n",
    "\n",
    "# Prepare X\n",
    "for row in nips_data:\n",
    "    X[row[0]-1][row[1] -1] = row[2]\n",
    "\n",
    "em = EM(n_clusters=30)\n",
    "em.fit(X)\n",
    "\n",
    "plt.plot(em.pi)\n",
    "plt.show()\n",
    "\n",
    "words = [line.strip() for line in open('vocab.nips.txt')]\n",
    "\n",
    "for j in range(30):\n",
    "    display(\"{}: \".format(j+1) + \", \".join(list(np.array(words)[np.argsort(em.p[:,j])[::-1][0:10]])))\n",
    "    \n"
   ]
  },
  {
   "cell_type": "code",
   "execution_count": null,
   "metadata": {
    "collapsed": true
   },
   "outputs": [],
   "source": []
  }
 ],
 "metadata": {
  "kernelspec": {
   "display_name": "Python 3",
   "language": "python",
   "name": "python3"
  },
  "language_info": {
   "codemirror_mode": {
    "name": "ipython",
    "version": 3
   },
   "file_extension": ".py",
   "mimetype": "text/x-python",
   "name": "python",
   "nbconvert_exporter": "python",
   "pygments_lexer": "ipython3",
   "version": "3.6.3"
  }
 },
 "nbformat": 4,
 "nbformat_minor": 2
}
