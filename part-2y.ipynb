{
 "cells": [
  {
   "cell_type": "code",
   "execution_count": 178,
   "metadata": {
    "collapsed": true
   },
   "outputs": [],
   "source": [
    "import numpy as np\n",
    "\n",
    "class EM:\n",
    "    p = None\n",
    "    dim = None # dimension of the data space\n",
    "    n_points = None # Number of data points\n",
    "    n_clusters = None # Number of clusters\n",
    "    pi = None # The prior probability vector of pi_j values\n",
    "    X = None # the data\n",
    "    \n",
    "    def __init__(self, n_clusters):\n",
    "        self.n_clusters = n_clusters\n",
    "        return\n",
    "    \n",
    "    def initialize(self):\n",
    "        # init p, based on random X but keep all values non zero     \n",
    "        self.p = np.zeros(shape = (self.dim, self.n_clusters))\n",
    "        samples = np.random.randint(0, self.n_points-1, self.n_clusters)\n",
    "        for i, index in enumerate(samples):\n",
    "            self.p[:, i] = (self.X[index, :] + 1)/(np.sum(self.X[index, :]) + self.dim)        \n",
    "        \n",
    "        # the prior\n",
    "        self.pi = np.ones(shape = self.n_clusters)/self.n_clusters\n",
    "        return\n",
    "    \n",
    "    def fit(self, X):\n",
    "        self.n_points = X.shape[0]\n",
    "        self.dim = X.shape[1]\n",
    "        self.X = X\n",
    "        self.initialize();\n",
    "        i = 1\n",
    "        while i < 100:\n",
    "            w = self.e_step()\n",
    "            self.m_step(w)\n",
    "            i = i + 1\n",
    "            \n",
    "        return\n",
    "    \n",
    "    def e_step(self):\n",
    "        W = np.dot(self.X, np.log(self.p)) + np.log(self.pi)\n",
    "        maxs = W.max(axis=1)\n",
    "        W = (W.T - maxs).T\n",
    "        W = (W.T - np.log(np.sum(np.exp(W), axis = 1))).T\n",
    "        W = np.exp(W)\n",
    "        return W\n",
    "    \n",
    "    def m_step(self, W):\n",
    "        self.pi = np.sum(W, axis = 0)/self.n_points\n",
    "        self.p = np.dot(self.X.T, W) + 1.0/self.dim\n",
    "        \n",
    "        colsum = np.sum(self.p, axis = 0)\n",
    "        self.p = self.p/colsum\n",
    "        return\n",
    "        "
   ]
  },
  {
   "cell_type": "code",
   "execution_count": 180,
   "metadata": {},
   "outputs": [
    {
     "data": {
      "image/png": "[encoded data removed]",
      "text/plain": [
       "<matplotlib.figure.Figure at 0x1a461ab048>"
      ]
     },
     "metadata": {},
     "output_type": "display_data"
    },
    {
     "data": {
      "text/plain": [
       "'1: model, data, network, neural, set, learning, function, algorithm, training, control'"
      ]
     },
     "metadata": {},
     "output_type": "display_data"
    },
    {
     "data": {
      "text/plain": [
       "'2: circuit, network, analog, constraint, optimization, chip, parameter, gradient, data, system'"
      ]
     },
     "metadata": {},
     "output_type": "display_data"
    },
    {
     "data": {
      "text/plain": [
       "'3: network, learning, point, algorithm, weight, unit, function, input, neural, system'"
      ]
     },
     "metadata": {},
     "output_type": "display_data"
    },
    {
     "data": {
      "text/plain": [
       "'4: network, point, kwta, code, net, decoder, codes, neural, distance, decoding'"
      ]
     },
     "metadata": {},
     "output_type": "display_data"
    },
    {
     "data": {
      "text/plain": [
       "'5: network, unit, learning, input, function, weight, output, algorithm, layer, hidden'"
      ]
     },
     "metadata": {},
     "output_type": "display_data"
    },
    {
     "data": {
      "text/plain": [
       "'6: current, input, neuron, model, channel, voltage, cell, noise, membrane, spike'"
      ]
     },
     "metadata": {},
     "output_type": "display_data"
    },
    {
     "data": {
      "text/plain": [
       "'7: network, speaker, speech, recognition, training, word, system, neural, task, set'"
      ]
     },
     "metadata": {},
     "output_type": "display_data"
    },
    {
     "data": {
      "text/plain": [
       "'8: approximation, order, distribution, information, function, entropy, data, gaussian, clustering, neural'"
      ]
     },
     "metadata": {},
     "output_type": "display_data"
    },
    {
     "data": {
      "text/plain": [
       "'9: network, model, system, learning, set, neural, input, function, unit, training'"
      ]
     },
     "metadata": {},
     "output_type": "display_data"
    },
    {
     "data": {
      "text/plain": [
       "'10: algorithm, function, loss, bound, linear, weight, problem, learning, vector, case'"
      ]
     },
     "metadata": {},
     "output_type": "display_data"
    },
    {
     "data": {
      "text/plain": [
       "'11: neuron, model, input, cell, network, visual, neural, cortex, system, cortical'"
      ]
     },
     "metadata": {},
     "output_type": "display_data"
    },
    {
     "data": {
      "text/plain": [
       "'12: eeg, component, subject, visual, signal, data, system, task, network, artifact'"
      ]
     },
     "metadata": {},
     "output_type": "display_data"
    },
    {
     "data": {
      "text/plain": [
       "'13: model, network, image, variables, graph, data, set, level, problem, function'"
      ]
     },
     "metadata": {},
     "output_type": "display_data"
    },
    {
     "data": {
      "text/plain": [
       "'14: wavelet, function, model, coefficient, basis, algorithm, signal, transform, method, data'"
      ]
     },
     "metadata": {},
     "output_type": "display_data"
    },
    {
     "data": {
      "text/plain": [
       "'15: network, learning, model, error, training, function, set, data, weight, distribution'"
      ]
     },
     "metadata": {},
     "output_type": "display_data"
    },
    {
     "data": {
      "text/plain": [
       "'16: model, data, algorithm, function, component, parameter, matrix, learning, gaussian, mixture'"
      ]
     },
     "metadata": {},
     "output_type": "display_data"
    },
    {
     "data": {
      "text/plain": [
       "'17: neuron, spike, model, firing, cell, input, synaptic, network, neural, potential'"
      ]
     },
     "metadata": {},
     "output_type": "display_data"
    },
    {
     "data": {
      "text/plain": [
       "'18: network, neural, system, processor, learning, block, data, instruction, algorithm, net'"
      ]
     },
     "metadata": {},
     "output_type": "display_data"
    },
    {
     "data": {
      "text/plain": [
       "'19: network, neural, neuron, function, input, system, model, learning, weight, circuit'"
      ]
     },
     "metadata": {},
     "output_type": "display_data"
    },
    {
     "data": {
      "text/plain": [
       "'20: network, function, bound, number, learning, dimension, neural, weight, layer, theorem'"
      ]
     },
     "metadata": {},
     "output_type": "display_data"
    },
    {
     "data": {
      "text/plain": [
       "'21: cell, model, direction, neuron, motion, input, field, system, visual, response'"
      ]
     },
     "metadata": {},
     "output_type": "display_data"
    },
    {
     "data": {
      "text/plain": [
       "'22: network, model, data, neural, set, training, function, input, algorithm, error'"
      ]
     },
     "metadata": {},
     "output_type": "display_data"
    },
    {
     "data": {
      "text/plain": [
       "'23: network, input, unit, neural, training, output, learning, recognition, system, model'"
      ]
     },
     "metadata": {},
     "output_type": "display_data"
    },
    {
     "data": {
      "text/plain": [
       "'24: learning, network, unit, model, input, neural, set, training, task, weight'"
      ]
     },
     "metadata": {},
     "output_type": "display_data"
    },
    {
     "data": {
      "text/plain": [
       "'25: signal, model, sound, system, frequency, auditory, channel, filter, input, output'"
      ]
     },
     "metadata": {},
     "output_type": "display_data"
    },
    {
     "data": {
      "text/plain": [
       "'26: learning, algorithm, examples, function, action, concept, policy, probability, number, set'"
      ]
     },
     "metadata": {},
     "output_type": "display_data"
    },
    {
     "data": {
      "text/plain": [
       "'27: model, motor, network, control, movement, speech, system, learning, trajectory, signal'"
      ]
     },
     "metadata": {},
     "output_type": "display_data"
    },
    {
     "data": {
      "text/plain": [
       "'28: problem, function, network, point, algorithm, method, neural, optimization, objective, solution'"
      ]
     },
     "metadata": {},
     "output_type": "display_data"
    },
    {
     "data": {
      "text/plain": [
       "'29: perturbation, weight, neuron, gradient, term, learning, multiple, swnp, error, parallel'"
      ]
     },
     "metadata": {},
     "output_type": "display_data"
    },
    {
     "data": {
      "text/plain": [
       "'30: algorithm, function, set, data, learning, training, error, vector, problem, classifier'"
      ]
     },
     "metadata": {},
     "output_type": "display_data"
    }
   ],
   "source": [
    "# Load the data\n",
    "nips_data = np.loadtxt('docword.nips.txt', skiprows=3, dtype=int)\n",
    "X = np.zeros(shape=(1500, 12419))\n",
    "\n",
    "# Prepare X\n",
    "for row in nips_data:\n",
    "    X[row[0]-1][row[1] -1] = row[2]\n",
    "\n",
    "em = EM(n_clusters=30)\n",
    "em.fit(X)\n",
    "\n",
    "plt.plot(em.pi)\n",
    "plt.show()\n",
    "\n",
    "words = [line.strip() for line in open('vocab.nips.txt')]\n",
    "\n",
    "for j in range(30):\n",
    "    display(\"{}: \".format(j+1) + \", \".join(list(np.array(words)[np.argsort(em.p[:,j])[::-1][0:10]])))\n",
    "    \n"
   ]
  },
  {
   "cell_type": "code",
   "execution_count": null,
   "metadata": {
    "collapsed": true
   },
   "outputs": [],
   "source": []
  }
 ],
 "metadata": {
  "kernelspec": {
   "display_name": "Python 3",
   "language": "python",
   "name": "python3"
  }
 },
 "nbformat": 4,
 "nbformat_minor": 2
}
