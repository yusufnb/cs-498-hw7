{
 "cells": [
  {
   "cell_type": "code",
   "execution_count": 1,
   "metadata": {
    "collapsed": true
   },
   "outputs": [],
   "source": [
    "%matplotlib inline"
   ]
  },
  {
   "cell_type": "code",
   "execution_count": 2,
   "metadata": {
    "collapsed": true
   },
   "outputs": [],
   "source": [
    "import pandas as pd\n",
    "import numpy as np\n",
    "import matplotlib.pyplot as plt"
   ]
  },
  {
   "cell_type": "code",
   "execution_count": 3,
   "metadata": {
    "collapsed": true
   },
   "outputs": [],
   "source": [
    "#Cluster this to 30 topics, using a simple mixture of multinomial topic model, as lectured in class."
   ]
  },
  {
   "cell_type": "code",
   "execution_count": 4,
   "metadata": {},
   "outputs": [],
   "source": [
    "num_docs = 1500\n",
    "num_vocab = 12419\n",
    "num_nonzero = 746316\n",
    "num_clusters = 30\n",
    "\n",
    "vocab = pd.read_csv(\"vocab.nips.txt\", header=None, names=['Vocab'])\n",
    "docword = np.loadtxt('docword.nips.txt', skiprows=3)\n",
    "\n",
    "documents = np.zeros((num_docs,num_vocab))\n",
    "for observation in docword:\n",
    "    documents[observation[0].astype(int)-1][observation[1].astype(int)-1] = observation[2]"
   ]
  },
  {
   "cell_type": "code",
   "execution_count": 5,
   "metadata": {},
   "outputs": [
    {
     "data": {
      "text/plain": [
       "(1500, 12419)"
      ]
     },
     "execution_count": 5,
     "metadata": {},
     "output_type": "execute_result"
    }
   ],
   "source": [
    "documents.shape"
   ]
  },
  {
   "cell_type": "code",
   "execution_count": 6,
   "metadata": {},
   "outputs": [
    {
     "data": {
      "text/plain": [
       "array([[ 0.,  1.,  0., ...,  0.,  0.,  0.],\n",
       "       [ 0.,  0.,  0., ...,  0.,  0.,  0.],\n",
       "       [ 0.,  0.,  0., ...,  0.,  0.,  0.],\n",
       "       ..., \n",
       "       [ 0.,  0.,  0., ...,  0.,  0.,  0.],\n",
       "       [ 0.,  0.,  2., ...,  0.,  0.,  0.],\n",
       "       [ 0.,  0.,  0., ...,  0.,  0.,  0.]])"
      ]
     },
     "execution_count": 6,
     "metadata": {},
     "output_type": "execute_result"
    }
   ],
   "source": [
    "documents"
   ]
  },
  {
   "cell_type": "code",
   "execution_count": 22,
   "metadata": {},
   "outputs": [
    {
     "name": "stdout",
     "output_type": "stream",
     "text": [
      "1.0\n",
      "[[  7.37245650e-05   7.34214391e-05   7.18132855e-05 ...,   7.31743012e-05\n",
      "    7.24112962e-05   7.16537690e-05]\n",
      " [  7.37245650e-05   7.34214391e-05   7.18132855e-05 ...,   7.31743012e-05\n",
      "    7.24112962e-05   7.16537690e-05]\n",
      " [  7.37245650e-05   7.34214391e-05   7.18132855e-05 ...,   7.31743012e-05\n",
      "    7.24112962e-05   7.16537690e-05]\n",
      " ..., \n",
      " [  7.37245650e-05   7.34214391e-05   7.18132855e-05 ...,   7.31743012e-05\n",
      "    7.24112962e-05   7.16537690e-05]\n",
      " [  7.37245650e-05   7.34214391e-05   7.18132855e-05 ...,   7.31743012e-05\n",
      "    7.24112962e-05   7.16537690e-05]\n",
      " [  7.37245650e-05   7.34214391e-05   7.18132855e-05 ...,   7.31743012e-05\n",
      "    7.24112962e-05   1.14646030e-03]]\n",
      "12419\n"
     ]
    }
   ],
   "source": [
    "#since k-means is not recommended, created intialization using random integers\n",
    "pi = np.ones(num_clusters)/num_clusters\n",
    "    \n",
    "#initialize multinomial parameters/cluster centers\n",
    "P = np.zeros((num_vocab, num_clusters)) # multinomial parameters, rows = features, cols = topics\n",
    "centroid = np.random.randint(0, num_docs-1, num_clusters)\n",
    "ones = np.ones(num_vocab) #don't initialize topic probability of zero https://piazza.com/class/jchzguhsowz6n9?cid=1111\n",
    "for i, idx in enumerate(centroid):\n",
    "    P[:, i] = (documents[idx, :] + ones)/(np.sum(documents[idx, :]) + num_vocab*ones)\n",
    "\n",
    "print(pi.sum())\n",
    "print(P)\n",
    "print(len(P))"
   ]
  },
  {
   "cell_type": "code",
   "execution_count": null,
   "metadata": {
    "collapsed": true
   },
   "outputs": [],
   "source": []
  }
 ],
 "metadata": {
  "kernelspec": {
   "display_name": "Python 3",
   "language": "python",
   "name": "python3"
  },
  "language_info": {
   "codemirror_mode": {
    "name": "ipython",
    "version": 3
   },
   "file_extension": ".py",
   "mimetype": "text/x-python",
   "name": "python",
   "nbconvert_exporter": "python",
   "pygments_lexer": "ipython3",
   "version": "3.6.3"
  }
 },
 "nbformat": 4,
 "nbformat_minor": 2
}
