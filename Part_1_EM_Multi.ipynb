{
 "cells": [
  {
   "cell_type": "code",
   "execution_count": null,
   "metadata": {
    "collapsed": true
   },
   "outputs": [],
   "source": [
    "%matplotlib inline"
   ]
  },
  {
   "cell_type": "code",
   "execution_count": null,
   "metadata": {
    "collapsed": true
   },
   "outputs": [],
   "source": [
    "import pandas as pd\n",
    "import numpy as np\n",
    "import matplotlib.pyplot as plt"
   ]
  },
  {
   "cell_type": "code",
   "execution_count": null,
   "metadata": {
    "collapsed": true
   },
   "outputs": [],
   "source": [
    "vocab = pd.read_csv(\"vocab.nips.txt\", header=None, names=['Vocab'])\n",
    "#docword = pd.read_csv(\"docword.nips.txt\", sep = \" \", header=None)# names=['DocID', 'WordID', 'Count'])\n",
    "docword = np.loadtxt(\"docword.nips.txt\")"
   ]
  },
  {
   "cell_type": "code",
   "execution_count": null,
   "metadata": {},
   "outputs": [],
   "source": [
    "docword"
   ]
  },
  {
   "cell_type": "code",
   "execution_count": null,
   "metadata": {},
   "outputs": [],
   "source": [
    "num_docs = 1500\n",
    "num_vocab = 12419\n",
    "num_nonzero = 746316"
   ]
  },
  {
   "cell_type": "code",
   "execution_count": null,
   "metadata": {
    "collapsed": true
   },
   "outputs": [],
   "source": [
    "#Cluster this to 30 topics, using a simple mixture of multinomial topic model, as lectured in class."
   ]
  },
  {
   "cell_type": "code",
   "execution_count": null,
   "metadata": {},
   "outputs": [],
   "source": [
    "documents = np.zeros((num_docs+1, num_vocab+1)) #adding one for index out of array error "
   ]
  },
  {
   "cell_type": "code",
   "execution_count": null,
   "metadata": {},
   "outputs": [],
   "source": [
    "documents"
   ]
  },
  {
   "cell_type": "code",
   "execution_count": null,
   "metadata": {},
   "outputs": [],
   "source": [
    "for i in range(0,docword.shape[0]):\n",
    "    documents[docword[i][0].astype(int)][docword[i][1].astype(int)] += docword[i][2]"
   ]
  },
  {
   "cell_type": "code",
   "execution_count": null,
   "metadata": {
    "collapsed": true
   },
   "outputs": [],
   "source": [
    "from sklearn.cluster import KMeans"
   ]
  },
  {
   "cell_type": "code",
   "execution_count": null,
   "metadata": {},
   "outputs": [],
   "source": [
    "topics = 30\n",
    "\n",
    "km = KMeans(n_clusters=topics, random_state=0)\n",
    "km.fit(documents)"
   ]
  },
  {
   "cell_type": "code",
   "execution_count": null,
   "metadata": {
    "collapsed": true
   },
   "outputs": [],
   "source": [
    "trans_documents = np.transpose(documents)"
   ]
  },
  {
   "cell_type": "code",
   "execution_count": null,
   "metadata": {},
   "outputs": [],
   "source": [
    "#np.set_printoptions(threshold=np.nan)\n",
    "trans_documents"
   ]
  },
  {
   "cell_type": "code",
   "execution_count": 11,
   "metadata": {
    "scrolled": false
   },
   "outputs": [
    {
     "name": "stdout",
     "output_type": "stream",
     "text": [
      "[[ 0.  0.  0. ...,  0.  0.  0.]\n",
      " [ 0.  0.  0. ...,  0.  0.  0.]\n",
      " [ 0.  0.  0. ...,  0.  0.  0.]\n",
      " ..., \n",
      " [ 0.  0.  0. ...,  0.  0.  0.]\n",
      " [ 0.  0.  2. ...,  0.  0.  0.]\n",
      " [ 0.  0.  0. ...,  0.  0.  0.]]\n",
      "running iteration 1\n",
      "Difference in quality is 1.0\n",
      "running iteration 2\n",
      "Difference in quality is 0.0307483761623\n",
      "running iteration 3\n",
      "Difference in quality is 0.00448377116363\n",
      "running iteration 4\n",
      "Difference in quality is 0.00343808378037\n",
      "running iteration 5\n",
      "Difference in quality is 0.00149471799158\n",
      "running iteration 6\n",
      "Difference in quality is 0.00061254865429\n",
      "running iteration 7\n",
      "Difference in quality is 6.40255421928e-05\n",
      "\n",
      "top 10 words for each cluster\n",
      "['learning', 'action', 'function', 'policy', 'model', 'algorithm', 'system', 'control', 'reinforcement', 'problem']\n",
      "['data', 'set', 'algorithm', 'vector', 'training', 'function', 'problem', 'point', 'learning', 'method']\n",
      "['concept', 'tracker', 'mistake', 'adversary', 'rate', 'algorithm', 'examples', 'learning', 'change', 'hypothesis']\n",
      "['face', 'images', 'image', 'network', 'recognition', 'set', 'representation', 'faces', 'system', 'learning']\n",
      "['object', 'view', 'model', 'image', 'recognition', 'network', 'images', 'unit', 'set', 'features']\n",
      "['model', 'data', 'network', 'neural', 'set', 'parameter', 'learning', 'system', 'training', 'algorithm']\n",
      "['net', 'task', 'weight', 'input', 'function', 'backprop', 'term', 'learn', 'learning', 'mtb']\n",
      "['input', 'model', 'network', 'unit', 'pattern', 'layer', 'learning', 'map', 'output', 'visual']\n",
      "['feature', 'unit', 'part', 'features', 'tag', 'object', 'hidden', 'magic', 'phase', 'weight']\n",
      "['learning', 'network', 'weight', 'function', 'error', 'input', 'algorithm', 'training', 'neural', 'set']\n",
      "['neuron', 'network', 'model', 'neural', 'input', 'system', 'function', 'spike', 'synaptic', 'firing']\n",
      "['action', 'abstraction', 'subtask', 'policy', 'learning', 'maxq', 'taxi', 'function', 'passenger', 'condition']\n",
      "['motion', 'system', 'target', 'velocity', 'pursuit', 'smooth', 'eye', 'retinal', 'speed', 'chip']\n",
      "['network', 'system', 'neural', 'signal', 'model', 'image', 'input', 'result', 'data', 'information']\n",
      "['context', 'system', 'hmm', 'model', 'training', 'dependent', 'network', 'neural', 'layer', 'word']\n",
      "['network', 'input', 'attractor', 'system', 'modules', 'pattern', 'model', 'activity', 'baird', 'form']\n",
      "['model', 'system', 'movement', 'motor', 'eye', 'learning', 'control', 'network', 'visual', 'position']\n",
      "['network', 'word', 'speech', 'recognition', 'training', 'system', 'set', 'model', 'neural', 'input']\n",
      "['function', 'network', 'neural', 'input', 'set', 'bound', 'number', 'weight', 'result', 'learning']\n",
      "['algorithm', 'function', 'learning', 'problem', 'result', 'set', 'network', 'vector', 'weight', 'number']\n",
      "['mse', 'learning', 'algorithm', 'trial', 'curves', 'analytical', 'step', 'bias', 'chain', 'variance']\n",
      "['motion', 'direction', 'cell', 'model', 'field', 'visual', 'neuron', 'head', 'input', 'network']\n",
      "['model', 'data', 'algorithm', 'distribution', 'parameter', 'function', 'gaussian', 'network', 'set', 'method']\n",
      "['network', 'chip', 'input', 'circuit', 'neural', 'weight', 'neuron', 'analog', 'output', 'current']\n",
      "['network', 'memory', 'neural', 'processor', 'data', 'layer', 'algorithm', 'weight', 'vector', 'bit']\n",
      "['unit', 'network', 'input', 'learning', 'hidden', 'weight', 'output', 'training', 'algorithm', 'function']\n",
      "['cell', 'model', 'input', 'neuron', 'visual', 'orientation', 'response', 'field', 'frequency', 'system']\n",
      "['network', 'neural', 'input', 'training', 'system', 'output', 'set', 'learning', 'unit', 'problem']\n",
      "['channel', 'call', 'cell', 'dynamic', 'free', 'system', 'allocation', 'arrival', 'bdcl', 'learning']\n",
      "['network', 'error', 'training', 'set', 'weight', 'data', 'learning', 'function', 'input', 'neural']\n"
     ]
    },
    {
     "data": {
      "image/png": "[encoded data removed]",
      "text/plain": [
       "<matplotlib.figure.Figure at 0x181f5d38d0>"
      ]
     },
     "metadata": {},
     "output_type": "display_data"
    }
   ],
   "source": []
  },
  {
   "cell_type": "code",
   "execution_count": 42,
   "metadata": {},
   "outputs": [],
   "source": [
    "num_docs = 1500\n",
    "num_vocab = 12419\n",
    "num_nonzero = 746316\n",
    "num_clusters = 30\n",
    "\n",
    "docword = np.loadtxt('docword.nips.txt', skiprows=3)\n",
    "#k is total number of words\n",
    "\n",
    "documents = np.zeros((num_docs,num_vocab))\n",
    "for observation in docword:\n",
    "    documents[observation[0].astype(int)-1][observation[1].astype(int)-1] = observation[2]"
   ]
  },
  {
   "cell_type": "code",
   "execution_count": 35,
   "metadata": {},
   "outputs": [
    {
     "data": {
      "text/plain": [
       "(1500, 12419)"
      ]
     },
     "execution_count": 35,
     "metadata": {},
     "output_type": "execute_result"
    }
   ],
   "source": [
    "documents.shape"
   ]
  },
  {
   "cell_type": "code",
   "execution_count": 36,
   "metadata": {},
   "outputs": [
    {
     "data": {
      "text/plain": [
       "array([[ 0.,  1.,  0., ...,  0.,  0.,  0.],\n",
       "       [ 0.,  0.,  0., ...,  0.,  0.,  0.],\n",
       "       [ 0.,  0.,  0., ...,  0.,  0.,  0.],\n",
       "       ..., \n",
       "       [ 0.,  0.,  0., ...,  0.,  0.,  0.],\n",
       "       [ 0.,  0.,  2., ...,  0.,  0.,  0.],\n",
       "       [ 0.,  0.,  0., ...,  0.,  0.,  0.]])"
      ]
     },
     "execution_count": 36,
     "metadata": {},
     "output_type": "execute_result"
    }
   ],
   "source": [
    "documents"
   ]
  },
  {
   "cell_type": "code",
   "execution_count": 56,
   "metadata": {},
   "outputs": [
    {
     "name": "stdout",
     "output_type": "stream",
     "text": [
      "[ 0.03333333  0.03333333  0.03333333  0.03333333  0.03333333  0.03333333\n",
      "  0.03333333  0.03333333  0.03333333  0.03333333  0.03333333  0.03333333\n",
      "  0.03333333  0.03333333  0.03333333  0.03333333  0.03333333  0.03333333\n",
      "  0.03333333  0.03333333  0.03333333  0.03333333  0.03333333  0.03333333\n",
      "  0.03333333  0.03333333  0.03333333  0.03333333  0.03333333  0.03333333]\n",
      "[[  7.25005438e-05   7.20461095e-05   7.32922897e-05 ...,   7.36539736e-05\n",
      "    7.55287009e-05   7.63650248e-05]\n",
      " [  7.25005438e-05   7.20461095e-05   7.32922897e-05 ...,   7.36539736e-05\n",
      "    7.55287009e-05   7.63650248e-05]\n",
      " [  7.25005438e-05   7.20461095e-05   7.32922897e-05 ...,   7.36539736e-05\n",
      "    7.55287009e-05   7.63650248e-05]\n",
      " ..., \n",
      " [  7.25005438e-05   7.20461095e-05   7.32922897e-05 ...,   7.36539736e-05\n",
      "    7.55287009e-05   7.63650248e-05]\n",
      " [  7.25005438e-05   7.20461095e-05   7.32922897e-05 ...,   7.36539736e-05\n",
      "    7.55287009e-05   7.63650248e-05]\n",
      " [  7.25005438e-05   7.20461095e-05   7.32922897e-05 ...,   7.36539736e-05\n",
      "    7.55287009e-05   7.63650248e-05]]\n",
      "12419\n"
     ]
    }
   ],
   "source": [
    "#since k-means is not recommended, created intialization with assistance from one section of https://github.com/rhiga2/AppliedML/blob/fd6d55bfe5e0de08093bf8a9a5db8ef4e450a690/hw5/.ipynb_checkpoints/hw5-checkpoint.ipynb\n",
    "pi = np.ones(shape = num_clusters)/num_clusters\n",
    "    \n",
    "#initialize multinomial parameters/cluster centers\n",
    "P = np.zeros(shape = (num_vocab, num_clusters)) # multinomial parameters, rows = features, cols = topics\n",
    "centroid = np.random.randint(0, num_docs-1, num_clusters)\n",
    "ones = np.ones(shape = num_vocab) #don't initialize topic probability of zero https://piazza.com/class/jchzguhsowz6n9?cid=1111\n",
    "for i, idx in enumerate(centroid):\n",
    "    P[:, i] = (documents[idx, :] + ones)/(np.sum(documents[idx, :]) + num_vocab*ones)\n",
    "\n",
    "print(pi)\n",
    "print(P)\n",
    "print(len(P))"
   ]
  },
  {
   "cell_type": "code",
   "execution_count": null,
   "metadata": {},
   "outputs": [],
   "source": []
  },
  {
   "cell_type": "code",
   "execution_count": null,
   "metadata": {
    "collapsed": true
   },
   "outputs": [],
   "source": []
  }
 ],
 "metadata": {
  "kernelspec": {
   "display_name": "Python 3",
   "language": "python",
   "name": "python3"
  },
  "language_info": {
   "codemirror_mode": {
    "name": "ipython",
    "version": 3
   },
   "file_extension": ".py",
   "mimetype": "text/x-python",
   "name": "python",
   "nbconvert_exporter": "python",
   "pygments_lexer": "ipython3",
   "version": "3.6.3"
  }
 },
 "nbformat": 4,
 "nbformat_minor": 2
}
